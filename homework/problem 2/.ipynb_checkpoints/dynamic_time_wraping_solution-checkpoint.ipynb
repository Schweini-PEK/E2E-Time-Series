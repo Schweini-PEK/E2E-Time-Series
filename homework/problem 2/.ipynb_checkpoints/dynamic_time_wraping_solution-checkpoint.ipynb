{
 "cells": [
  {
   "cell_type": "code",
   "execution_count": 1,
   "metadata": {},
   "outputs": [],
   "source": [
    "import numpy as np \n",
    "import matplotlib.pyplot as plt\n",
    "from sklearn.metrics import classification_report, confusion_matrix\n",
    "import pandas as pd"
   ]
  },
  {
   "cell_type": "markdown",
   "metadata": {},
   "source": [
    "## Part 1 Compare Euclidean distance and Dynamic Time Warping distance"
   ]
  },
  {
   "cell_type": "markdown",
   "metadata": {},
   "source": [
    "Let's first generate some time series data. Generate the x and y for the following functions and plot the three lines.\n",
    "\n",
    "\n",
    "ts1: $y=3\\sin(\\frac{x}{1.5})+3.5$\n",
    "\n",
    "\n",
    "ts2: $y=2.2\\sin(\\frac{x}{3.5}x+2.4)+3.2$\n",
    "\n",
    "\n",
    "ts3: $y=0.04x+3$"
   ]
  },
  {
   "cell_type": "code",
   "execution_count": 2,
   "metadata": {},
   "outputs": [
    {
     "data": {
      "text/plain": [
       "<matplotlib.legend.Legend at 0x7fe6320c7c90>"
      ]
     },
     "execution_count": 2,
     "metadata": {},
     "output_type": "execute_result"
    },
    {
     "data": {
      "image/png": "[encoded data removed]",
      "text/plain": [
       "<Figure size 432x288 with 1 Axes>"
      ]
     },
     "metadata": {
      "needs_background": "light"
     },
     "output_type": "display_data"
    }
   ],
   "source": [
    "x = np.linspace(0, 50, 100)\n",
    "ts1 = 3.1 * np.sin(x / 1.5) + 3.5\n",
    "ts2 = 2.2 * np.sin(x / 3.5 + 2.4) + 3.2\n",
    "ts3 = 0.04 * x + 3.0\n",
    "\n",
    "plt.plot(x, ts1, label='ts1')\n",
    "plt.plot(x, ts2, label='ts2')\n",
    "plt.plot(x, ts3, label='ts3')\n",
    "plt.ylim(-2, 10)\n",
    "plt.legend()"
   ]
  },
  {
   "cell_type": "markdown",
   "metadata": {},
   "source": [
    "In a typycal time series problem, one important thing is to determine the similarity between two series. There are several methods to compute the similarity. Here, you are provided with Euclidean distance and Dynamic Time Warping(DTW) distance. You need to fill the follwoing cells to construct these two distances and compare them. "
   ]
  },
  {
   "cell_type": "markdown",
   "metadata": {},
   "source": [
    "### Euclidean distance \n",
    "Euclidean distance between two time series A and B is define as\n",
    "$$\n",
    "d(A, B)=\\sqrt{\\sum_{i=1}^{n}[A(i)-B(i)]^{2}}\n",
    "$$\n",
    "where A and B are n dim"
   ]
  },
  {
   "cell_type": "code",
   "execution_count": 3,
   "metadata": {},
   "outputs": [],
   "source": [
    "def euclid_dist(a, b):\n",
    "    return np.linalg.norm(a - b)"
   ]
  },
  {
   "cell_type": "markdown",
   "metadata": {},
   "source": [
    "### Q1.1: Report the Euclidean distance of ts1 and ts2 as well as ts1 and ts3. Based on Euclidean distance, which series is more similar to ts1?"
   ]
  },
  {
   "cell_type": "code",
   "execution_count": 4,
   "metadata": {},
   "outputs": [
    {
     "data": {
      "text/plain": [
       "(26.95921603796934, 23.18924919031106)"
      ]
     },
     "execution_count": 4,
     "metadata": {},
     "output_type": "execute_result"
    }
   ],
   "source": [
    "Eu_12 = euclid_dist(ts1, ts2)\n",
    "Eu_13 = euclid_dist(ts1, ts3)\n",
    "\n",
    "Eu_12, Eu_13"
   ]
  },
  {
   "cell_type": "markdown",
   "metadata": {},
   "source": [
    "### Answer: ts3 is more similar to ts1 since the euclid_dist is smaller. However, this is opposite to our intuition since the two sine function should be more similar. "
   ]
  },
  {
   "cell_type": "markdown",
   "metadata": {},
   "source": [
    "### Dynamic Time Warping\n",
    "Sometimes two series are very similar but their axises maybe distorted(e.g. time-axis). DTW distance finds the optimum alignment between two sequences of observations by warping the time dimension. Here is a detailed resource for the concept: https://en.wikipedia.org/wiki/Dynamic_time_warping"
   ]
  },
  {
   "cell_type": "code",
   "execution_count": 5,
   "metadata": {},
   "outputs": [],
   "source": [
    "def dtw_dist(a, b):\n",
    "    dtw = {}\n",
    "\n",
    "    for i in range(len(a)):\n",
    "        dtw[(i, -1)] = float('inf')\n",
    "    for i in range(len(b)):\n",
    "        dtw[(-1, i)] = float('inf')\n",
    "    dtw[(-1, -1)] = 0\n",
    "\n",
    "    for i in range(len(a)):\n",
    "        for j in range(len(b)):\n",
    "            dist_2 = (a[i] - b[j]) ** 2\n",
    "            dtw[(i, j)] = dist_2 + np.min((dtw[(i-1, j)], dtw[(i, j-1)], dtw[(i-1, j-1)]))\n",
    "\n",
    "    return np.sqrt(dtw[(len(a) - 1, len(b) - 1)])\n"
   ]
  },
  {
   "cell_type": "markdown",
   "metadata": {},
   "source": [
    "### Q1.2: Report the DTW distance of ts1 and ts2 as well as ts1 and ts3. Based on Euclidean distance, which series is more similar to ts1?"
   ]
  },
  {
   "cell_type": "code",
   "execution_count": 6,
   "metadata": {},
   "outputs": [
    {
     "data": {
      "text/plain": [
       "(17.929718468641134, 21.549494824404572)"
      ]
     },
     "execution_count": 6,
     "metadata": {},
     "output_type": "execute_result"
    }
   ],
   "source": [
    "Dtw_12 = dtw_dist(ts1, ts2)\n",
    "Dtw_13 = dtw_dist(ts1, ts3)\n",
    "\n",
    "Dtw_12, Dtw_13"
   ]
  },
  {
   "cell_type": "markdown",
   "metadata": {},
   "source": [
    "### Answer: ts2 is more similar to ts1 since the dtw_dist is smaller. This is the same as our intuition. "
   ]
  },
  {
   "cell_type": "markdown",
   "metadata": {},
   "source": [
    "### Faster DTW algorithm\n",
    "DTW consumes too much time since it needs to traverse all the data points which give a complexity of $O(nm)$. Actually we don't need to compute the two points that are too far away. This threshold can be set by a parameter $r$. Fill the cell below and report the distance."
   ]
  },
  {
   "cell_type": "code",
   "execution_count": 7,
   "metadata": {},
   "outputs": [],
   "source": [
    "def dtw_dist_fast(a, b, r=5):\n",
    "    dtw = {}\n",
    "\n",
    "    r = np.max((r, np.abs(len(a) - len(b))))\n",
    "\n",
    "    for i in range(-1, len(a)):\n",
    "        for j in range(-1, len(b)):\n",
    "            dtw[(i, j)] = float('inf')\n",
    "    dtw[(-1, -1)] = 0\n",
    "\n",
    "    for i in range(len(a)):\n",
    "        for j in range(np.max((0, i-r)), np.min((len(b), i+r))):\n",
    "            dist_2 = (a[i] - b[j]) ** 2\n",
    "            dtw[(i, j)] = dist_2 + np.min((dtw[(i-1, j)], dtw[(i, j-1)], dtw[(i-1, j-1)]))\n",
    "\n",
    "    return np.sqrt(dtw[(len(a) - 1, len(b) - 1)])"
   ]
  },
  {
   "cell_type": "code",
   "execution_count": 8,
   "metadata": {},
   "outputs": [
    {
     "data": {
      "text/plain": [
       "(18.59655183841726, 22.47248284679103)"
      ]
     },
     "execution_count": 8,
     "metadata": {},
     "output_type": "execute_result"
    }
   ],
   "source": [
    "Dtw_f_12 = dtw_dist_fast(ts1, ts2, 10)\n",
    "Dtw_f_13 = dtw_dist_fast(ts1, ts3, 10)\n",
    "\n",
    "Dtw_f_12, Dtw_f_13"
   ]
  },
  {
   "cell_type": "markdown",
   "metadata": {},
   "source": [
    "### LB Keogh\n",
    "LB Keogh is an even faster method than fast DTW distance. We don't expect you to understand the concept here, so we provide you with the codes. Report the distance with this method."
   ]
  },
  {
   "cell_type": "code",
   "execution_count": 9,
   "metadata": {},
   "outputs": [],
   "source": [
    "def LB_Keogh(a, b, r):\n",
    "    LB_sum=0\n",
    "    for idx,i in enumerate(a):\n",
    "        \n",
    "        lower_bound=min(b[(idx-r if idx-r>=0 else 0):(idx+r)])\n",
    "        upper_bound=max(b[(idx-r if idx-r>=0 else 0):(idx+r)])\n",
    "        \n",
    "        if i > upper_bound:\n",
    "            LB_sum = LB_sum + (i - upper_bound) ** 2\n",
    "        elif i < lower_bound:\n",
    "            LB_sum = LB_sum + (i - lower_bound) ** 2\n",
    "    \n",
    "    return np.sqrt(LB_sum)\n"
   ]
  },
  {
   "cell_type": "code",
   "execution_count": 10,
   "metadata": {},
   "outputs": [
    {
     "data": {
      "text/plain": [
       "(10.96456042004128, 21.54116703422889)"
      ]
     },
     "execution_count": 10,
     "metadata": {},
     "output_type": "execute_result"
    }
   ],
   "source": [
    "LB_12 = LB_Keogh(ts1, ts2, 10)\n",
    "LB_13 = LB_Keogh(ts1, ts3, 10)\n",
    "\n",
    "LB_12, LB_13"
   ]
  },
  {
   "cell_type": "markdown",
   "metadata": {},
   "source": [
    "## Part 2 Apply KNN+DTW method and classification on UCI dataset"
   ]
  },
  {
   "cell_type": "markdown",
   "metadata": {},
   "source": [
    "UCI dataset(https://archive.ics.uci.edu/ml/datasets/human+activity+recognition+using+smartphones) collects the infomation of embedded accelerometer and gyroscope in people's mobile phone when people perform six activities (WALKING, WALKING_UPSTAIRS, WALKING_DOWNSTAIRS, SITTING, STANDING, LAYING). Let's first load the data. "
   ]
  },
  {
   "cell_type": "code",
   "execution_count": 11,
   "metadata": {},
   "outputs": [],
   "source": [
    "def load_data(path='UCI_HAR_Dataset/train/X_train.txt'):\n",
    "    with open(path, 'r') as file:\n",
    "        data = file.readlines()\n",
    "\n",
    "    x_train = []\n",
    "    for line in data:\n",
    "        x_train.append([float(x) for x in line.split()])\n",
    "\n",
    "    return np.array(x_train)"
   ]
  },
  {
   "cell_type": "code",
   "execution_count": 12,
   "metadata": {},
   "outputs": [],
   "source": [
    "labels = {1:'WALKING',\n",
    "          2:'WALKING UPSTAIRS', \n",
    "          3:'WALKING DOWNSTAIRS',\n",
    "          4:'SITTING', \n",
    "          5:'STANDING', \n",
    "          6:'LAYING'}"
   ]
  },
  {
   "cell_type": "markdown",
   "metadata": {},
   "source": [
    "Here x_train and x_test contains all the infomation from the mobile. y_train and y_test are the labels of people's activities. "
   ]
  },
  {
   "cell_type": "code",
   "execution_count": 13,
   "metadata": {},
   "outputs": [],
   "source": [
    "x_train = load_data('UCI_HAR_Dataset/train/X_train.txt')\n",
    "y_train = load_data('UCI_HAR_Dataset/train/y_train.txt')\n",
    "x_test = load_data('UCI_HAR_Dataset/test/X_test.txt')\n",
    "y_test = load_data('UCI_HAR_Dataset/test/y_test.txt')"
   ]
  },
  {
   "cell_type": "markdown",
   "metadata": {},
   "source": [
    "### KNN\n",
    "Fill the following cell and construct a KNN model. Here we set k=1\n",
    "\n",
    "Use DTW to determine whether two data points are similar. Think about how to make use of LB Keogh to accelerate the training process. (Hint: run LB Keogh first to narrow the traversing range)"
   ]
  },
  {
   "cell_type": "code",
   "execution_count": 70,
   "metadata": {},
   "outputs": [],
   "source": [
    "def knn(train_x, train_y, test_x, test_y, r):\n",
    "    preds=[]\n",
    "    for idx_i, Xtest in enumerate(test_x):\n",
    "        min_dist=float('inf')\n",
    "\n",
    "        for idx_j, Xtrain in enumerate(train_x):\n",
    "            if LB_Keogh(Xtest, Xtrain, 5) < min_dist:\n",
    "                dist = dtw_dist_fast(Xtest, Xtrain, r)\n",
    "                if dist < min_dist:\n",
    "                    min_dist = dist\n",
    "                    closest_label = train_y[idx_j]\n",
    "        preds.append(closest_label)\n",
    "\n",
    "    return preds"
   ]
  },
  {
   "cell_type": "markdown",
   "metadata": {},
   "source": [
    "### Q2.1 Predict the testing set and report your accuracy \n",
    "(Attention: The running time is very large if you use all the training data. We suggest to reduce the size of training set)"
   ]
  },
  {
   "cell_type": "code",
   "execution_count": 57,
   "metadata": {},
   "outputs": [],
   "source": [
    "y_pred = knn(x_train[:30,:], y_train[:30], x_test[:10,:], y_test[:10], 4)"
   ]
  },
  {
   "cell_type": "code",
   "execution_count": 56,
   "metadata": {},
   "outputs": [
    {
     "name": "stdout",
     "output_type": "stream",
     "text": [
      "              precision    recall  f1-score   support\n",
      "\n",
      "         5.0       1.00      1.00      1.00         5\n",
      "\n",
      "    accuracy                           1.00         5\n",
      "   macro avg       1.00      1.00      1.00         5\n",
      "weighted avg       1.00      1.00      1.00         5\n",
      "\n"
     ]
    }
   ],
   "source": [
    "print(classification_report(y_test[:5], y_pred))"
   ]
  }
 ],
 "metadata": {
  "kernelspec": {
   "display_name": "cs289",
   "language": "python",
   "name": "cs289"
  },
  "language_info": {
   "codemirror_mode": {
    "name": "ipython",
    "version": 3
   },
   "file_extension": ".py",
   "mimetype": "text/x-python",
   "name": "python",
   "nbconvert_exporter": "python",
   "pygments_lexer": "ipython3",
   "version": "3.7.9"
  }
 },
 "nbformat": 4,
 "nbformat_minor": 2
}
